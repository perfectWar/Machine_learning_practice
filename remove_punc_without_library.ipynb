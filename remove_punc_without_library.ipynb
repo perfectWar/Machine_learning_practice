{
 "cells": [
  {
   "cell_type": "code",
   "execution_count": 17,
   "id": "92610398",
   "metadata": {},
   "outputs": [],
   "source": [
    "class without_library:\n",
    "    def __init__(self):\n",
    "        self.string = input(\"Enter a string : \")\n",
    "        self.new = \"\"\n",
    "        self.punc = '''!@#$%^&*()_+-=,./;:'\"<>|\\{}[]`~*'''\n",
    "        self.new_list = []\n",
    "        self.result = self.remove_punc()\n",
    "        print(\"After Normalization :-\\n\", self.result)     \n",
    "        \n",
    "    def remove_punc(self):\n",
    "        for i in self.string:\n",
    "            if i not in self.punc:\n",
    "                self.new += i\n",
    "        self.new = self.new.lower()\n",
    "        self.new_list = self.new.split(\" \")\n",
    "        return self.new_list"
   ]
  },
  {
   "cell_type": "code",
   "execution_count": 18,
   "id": "e601e4c2",
   "metadata": {},
   "outputs": [
    {
     "name": "stdout",
     "output_type": "stream",
     "text": [
      "Enter a string : Today, I am very Happy!!\n",
      "After Normalization :-\n",
      " ['today', 'i', 'am', 'very', 'happy']\n"
     ]
    }
   ],
   "source": [
    "obj = without_library()"
   ]
  },
  {
   "cell_type": "code",
   "execution_count": null,
   "id": "11596b2c",
   "metadata": {},
   "outputs": [],
   "source": []
  }
 ],
 "metadata": {
  "kernelspec": {
   "display_name": "Python 3 (ipykernel)",
   "language": "python",
   "name": "python3"
  },
  "language_info": {
   "codemirror_mode": {
    "name": "ipython",
    "version": 3
   },
   "file_extension": ".py",
   "mimetype": "text/x-python",
   "name": "python",
   "nbconvert_exporter": "python",
   "pygments_lexer": "ipython3",
   "version": "3.10.9"
  }
 },
 "nbformat": 4,
 "nbformat_minor": 5
}
