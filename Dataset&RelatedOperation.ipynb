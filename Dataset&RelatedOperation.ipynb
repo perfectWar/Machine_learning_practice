{
 "cells": [
  {
   "cell_type": "markdown",
   "id": "b52ef238",
   "metadata": {},
   "source": [
    "# Importing the libraries"
   ]
  },
  {
   "cell_type": "code",
   "execution_count": 1,
   "id": "cd44e0b5",
   "metadata": {},
   "outputs": [],
   "source": [
    "import pandas as pd\n",
    "import numpy as np\n",
    "from sqlalchemy import create_engine\n",
    "import openpyxl\n",
    "# import xlrd"
   ]
  },
  {
   "cell_type": "markdown",
   "id": "38357af2",
   "metadata": {},
   "source": [
    "# Creating the dataset"
   ]
  },
  {
   "cell_type": "code",
   "execution_count": 2,
   "id": "7c5d367f",
   "metadata": {},
   "outputs": [],
   "source": [
    "data = {\n",
    "    \"ID\" : [1,2,3,4,5],\n",
    "    \"Name\" : ['Apple','Mango','Banana','Gauva','Orange'],\n",
    "    \"Color\" : ['Red','Yellow', 'Yellow', 'Green', 'Orange'],\n",
    "    \"Price\" : [110,100,40,50,80]\n",
    "}"
   ]
  },
  {
   "cell_type": "code",
   "execution_count": 3,
   "id": "55e45769",
   "metadata": {},
   "outputs": [],
   "source": [
    "fruit_data = pd.DataFrame(data)"
   ]
  },
  {
   "cell_type": "code",
   "execution_count": 4,
   "id": "11dadf70",
   "metadata": {},
   "outputs": [
    {
     "data": {
      "text/html": [
       "<div>\n",
       "<style scoped>\n",
       "    .dataframe tbody tr th:only-of-type {\n",
       "        vertical-align: middle;\n",
       "    }\n",
       "\n",
       "    .dataframe tbody tr th {\n",
       "        vertical-align: top;\n",
       "    }\n",
       "\n",
       "    .dataframe thead th {\n",
       "        text-align: right;\n",
       "    }\n",
       "</style>\n",
       "<table border=\"1\" class=\"dataframe\">\n",
       "  <thead>\n",
       "    <tr style=\"text-align: right;\">\n",
       "      <th></th>\n",
       "      <th>ID</th>\n",
       "      <th>Name</th>\n",
       "      <th>Color</th>\n",
       "      <th>Price</th>\n",
       "    </tr>\n",
       "  </thead>\n",
       "  <tbody>\n",
       "    <tr>\n",
       "      <th>0</th>\n",
       "      <td>1</td>\n",
       "      <td>Apple</td>\n",
       "      <td>Red</td>\n",
       "      <td>110</td>\n",
       "    </tr>\n",
       "    <tr>\n",
       "      <th>1</th>\n",
       "      <td>2</td>\n",
       "      <td>Mango</td>\n",
       "      <td>Yellow</td>\n",
       "      <td>100</td>\n",
       "    </tr>\n",
       "    <tr>\n",
       "      <th>2</th>\n",
       "      <td>3</td>\n",
       "      <td>Banana</td>\n",
       "      <td>Yellow</td>\n",
       "      <td>40</td>\n",
       "    </tr>\n",
       "    <tr>\n",
       "      <th>3</th>\n",
       "      <td>4</td>\n",
       "      <td>Gauva</td>\n",
       "      <td>Green</td>\n",
       "      <td>50</td>\n",
       "    </tr>\n",
       "    <tr>\n",
       "      <th>4</th>\n",
       "      <td>5</td>\n",
       "      <td>Orange</td>\n",
       "      <td>Orange</td>\n",
       "      <td>80</td>\n",
       "    </tr>\n",
       "  </tbody>\n",
       "</table>\n",
       "</div>"
      ],
      "text/plain": [
       "   ID    Name   Color  Price\n",
       "0   1   Apple     Red    110\n",
       "1   2   Mango  Yellow    100\n",
       "2   3  Banana  Yellow     40\n",
       "3   4   Gauva   Green     50\n",
       "4   5  Orange  Orange     80"
      ]
     },
     "execution_count": 4,
     "metadata": {},
     "output_type": "execute_result"
    }
   ],
   "source": [
    "fruit_data"
   ]
  },
  {
   "cell_type": "markdown",
   "id": "8fdc8253",
   "metadata": {},
   "source": [
    "# DataFrame to different file format"
   ]
  },
  {
   "cell_type": "code",
   "execution_count": 5,
   "id": "ecae9f19",
   "metadata": {},
   "outputs": [],
   "source": [
    "fruit_data.to_csv(\"C:\\\\Users\\\\raths\\\\OneDrive\\\\AppData\\\\Desktop\\\\Mitali\\\\data_csv.csv\", index=False)"
   ]
  },
  {
   "cell_type": "code",
   "execution_count": 6,
   "id": "e2fcaba9",
   "metadata": {},
   "outputs": [],
   "source": [
    "data_excel = fruit_data.to_excel(\"C:\\\\Users\\\\raths\\\\OneDrive\\\\AppData\\\\Desktop\\\\Mitali\\\\data_excel.xlsx\", index=False)"
   ]
  },
  {
   "cell_type": "code",
   "execution_count": 7,
   "id": "f74dae8c",
   "metadata": {},
   "outputs": [],
   "source": [
    "data_json = fruit_data.to_json(\"C:\\\\Users\\\\raths\\\\OneDrive\\\\AppData\\\\Desktop\\\\Mitali\\\\data.json\")"
   ]
  },
  {
   "cell_type": "code",
   "execution_count": 8,
   "id": "3de8a473",
   "metadata": {},
   "outputs": [],
   "source": [
    "engine = create_engine('sqlite://',echo=False)"
   ]
  },
  {
   "cell_type": "code",
   "execution_count": 9,
   "id": "1c1769e9",
   "metadata": {},
   "outputs": [
    {
     "data": {
      "text/plain": [
       "5"
      ]
     },
     "execution_count": 9,
     "metadata": {},
     "output_type": "execute_result"
    }
   ],
   "source": [
    "fruit_data.to_sql('my_table',con=engine)"
   ]
  },
  {
   "cell_type": "markdown",
   "id": "8d3cd8b7",
   "metadata": {},
   "source": [
    "# Loading the data"
   ]
  },
  {
   "cell_type": "code",
   "execution_count": 10,
   "id": "13f37b36",
   "metadata": {},
   "outputs": [],
   "source": [
    "data1 = pd.read_csv(\"C:\\\\Users\\\\raths\\\\OneDrive\\\\AppData\\\\Desktop\\\\Mitali\\\\data_csv.csv\")"
   ]
  },
  {
   "cell_type": "code",
   "execution_count": 11,
   "id": "ee416c32",
   "metadata": {},
   "outputs": [
    {
     "data": {
      "text/html": [
       "<div>\n",
       "<style scoped>\n",
       "    .dataframe tbody tr th:only-of-type {\n",
       "        vertical-align: middle;\n",
       "    }\n",
       "\n",
       "    .dataframe tbody tr th {\n",
       "        vertical-align: top;\n",
       "    }\n",
       "\n",
       "    .dataframe thead th {\n",
       "        text-align: right;\n",
       "    }\n",
       "</style>\n",
       "<table border=\"1\" class=\"dataframe\">\n",
       "  <thead>\n",
       "    <tr style=\"text-align: right;\">\n",
       "      <th></th>\n",
       "      <th>ID</th>\n",
       "      <th>Name</th>\n",
       "      <th>Color</th>\n",
       "      <th>Price</th>\n",
       "    </tr>\n",
       "  </thead>\n",
       "  <tbody>\n",
       "    <tr>\n",
       "      <th>0</th>\n",
       "      <td>1</td>\n",
       "      <td>Apple</td>\n",
       "      <td>Red</td>\n",
       "      <td>110</td>\n",
       "    </tr>\n",
       "    <tr>\n",
       "      <th>1</th>\n",
       "      <td>2</td>\n",
       "      <td>Mango</td>\n",
       "      <td>Yellow</td>\n",
       "      <td>100</td>\n",
       "    </tr>\n",
       "    <tr>\n",
       "      <th>2</th>\n",
       "      <td>3</td>\n",
       "      <td>Banana</td>\n",
       "      <td>Yellow</td>\n",
       "      <td>40</td>\n",
       "    </tr>\n",
       "    <tr>\n",
       "      <th>3</th>\n",
       "      <td>4</td>\n",
       "      <td>Gauva</td>\n",
       "      <td>Green</td>\n",
       "      <td>50</td>\n",
       "    </tr>\n",
       "    <tr>\n",
       "      <th>4</th>\n",
       "      <td>5</td>\n",
       "      <td>Orange</td>\n",
       "      <td>Orange</td>\n",
       "      <td>80</td>\n",
       "    </tr>\n",
       "  </tbody>\n",
       "</table>\n",
       "</div>"
      ],
      "text/plain": [
       "   ID    Name   Color  Price\n",
       "0   1   Apple     Red    110\n",
       "1   2   Mango  Yellow    100\n",
       "2   3  Banana  Yellow     40\n",
       "3   4   Gauva   Green     50\n",
       "4   5  Orange  Orange     80"
      ]
     },
     "execution_count": 11,
     "metadata": {},
     "output_type": "execute_result"
    }
   ],
   "source": [
    "data1"
   ]
  },
  {
   "cell_type": "code",
   "execution_count": 12,
   "id": "c8e88e1c",
   "metadata": {},
   "outputs": [],
   "source": [
    "data2 = pd.read_excel(\"C:\\\\Users\\\\raths\\\\OneDrive\\\\AppData\\\\Desktop\\\\Mitali\\\\data_excel.xlsx\")"
   ]
  },
  {
   "cell_type": "code",
   "execution_count": 13,
   "id": "5608a23a",
   "metadata": {},
   "outputs": [
    {
     "data": {
      "text/html": [
       "<div>\n",
       "<style scoped>\n",
       "    .dataframe tbody tr th:only-of-type {\n",
       "        vertical-align: middle;\n",
       "    }\n",
       "\n",
       "    .dataframe tbody tr th {\n",
       "        vertical-align: top;\n",
       "    }\n",
       "\n",
       "    .dataframe thead th {\n",
       "        text-align: right;\n",
       "    }\n",
       "</style>\n",
       "<table border=\"1\" class=\"dataframe\">\n",
       "  <thead>\n",
       "    <tr style=\"text-align: right;\">\n",
       "      <th></th>\n",
       "      <th>ID</th>\n",
       "      <th>Name</th>\n",
       "      <th>Color</th>\n",
       "      <th>Price</th>\n",
       "    </tr>\n",
       "  </thead>\n",
       "  <tbody>\n",
       "    <tr>\n",
       "      <th>0</th>\n",
       "      <td>1</td>\n",
       "      <td>Apple</td>\n",
       "      <td>Red</td>\n",
       "      <td>110</td>\n",
       "    </tr>\n",
       "    <tr>\n",
       "      <th>1</th>\n",
       "      <td>2</td>\n",
       "      <td>Mango</td>\n",
       "      <td>Yellow</td>\n",
       "      <td>100</td>\n",
       "    </tr>\n",
       "    <tr>\n",
       "      <th>2</th>\n",
       "      <td>3</td>\n",
       "      <td>Banana</td>\n",
       "      <td>Yellow</td>\n",
       "      <td>40</td>\n",
       "    </tr>\n",
       "    <tr>\n",
       "      <th>3</th>\n",
       "      <td>4</td>\n",
       "      <td>Gauva</td>\n",
       "      <td>Green</td>\n",
       "      <td>50</td>\n",
       "    </tr>\n",
       "    <tr>\n",
       "      <th>4</th>\n",
       "      <td>5</td>\n",
       "      <td>Orange</td>\n",
       "      <td>Orange</td>\n",
       "      <td>80</td>\n",
       "    </tr>\n",
       "  </tbody>\n",
       "</table>\n",
       "</div>"
      ],
      "text/plain": [
       "   ID    Name   Color  Price\n",
       "0   1   Apple     Red    110\n",
       "1   2   Mango  Yellow    100\n",
       "2   3  Banana  Yellow     40\n",
       "3   4   Gauva   Green     50\n",
       "4   5  Orange  Orange     80"
      ]
     },
     "execution_count": 13,
     "metadata": {},
     "output_type": "execute_result"
    }
   ],
   "source": [
    "data2"
   ]
  },
  {
   "cell_type": "code",
   "execution_count": 14,
   "id": "300e7e63",
   "metadata": {},
   "outputs": [],
   "source": [
    "data3 = pd.read_json(\"C:\\\\Users\\\\raths\\\\OneDrive\\\\AppData\\\\Desktop\\\\Mitali\\\\data.json\")"
   ]
  },
  {
   "cell_type": "code",
   "execution_count": 15,
   "id": "29a94dd4",
   "metadata": {},
   "outputs": [
    {
     "data": {
      "text/html": [
       "<div>\n",
       "<style scoped>\n",
       "    .dataframe tbody tr th:only-of-type {\n",
       "        vertical-align: middle;\n",
       "    }\n",
       "\n",
       "    .dataframe tbody tr th {\n",
       "        vertical-align: top;\n",
       "    }\n",
       "\n",
       "    .dataframe thead th {\n",
       "        text-align: right;\n",
       "    }\n",
       "</style>\n",
       "<table border=\"1\" class=\"dataframe\">\n",
       "  <thead>\n",
       "    <tr style=\"text-align: right;\">\n",
       "      <th></th>\n",
       "      <th>ID</th>\n",
       "      <th>Name</th>\n",
       "      <th>Color</th>\n",
       "      <th>Price</th>\n",
       "    </tr>\n",
       "  </thead>\n",
       "  <tbody>\n",
       "    <tr>\n",
       "      <th>0</th>\n",
       "      <td>1</td>\n",
       "      <td>Apple</td>\n",
       "      <td>Red</td>\n",
       "      <td>110</td>\n",
       "    </tr>\n",
       "    <tr>\n",
       "      <th>1</th>\n",
       "      <td>2</td>\n",
       "      <td>Mango</td>\n",
       "      <td>Yellow</td>\n",
       "      <td>100</td>\n",
       "    </tr>\n",
       "    <tr>\n",
       "      <th>2</th>\n",
       "      <td>3</td>\n",
       "      <td>Banana</td>\n",
       "      <td>Yellow</td>\n",
       "      <td>40</td>\n",
       "    </tr>\n",
       "    <tr>\n",
       "      <th>3</th>\n",
       "      <td>4</td>\n",
       "      <td>Gauva</td>\n",
       "      <td>Green</td>\n",
       "      <td>50</td>\n",
       "    </tr>\n",
       "    <tr>\n",
       "      <th>4</th>\n",
       "      <td>5</td>\n",
       "      <td>Orange</td>\n",
       "      <td>Orange</td>\n",
       "      <td>80</td>\n",
       "    </tr>\n",
       "  </tbody>\n",
       "</table>\n",
       "</div>"
      ],
      "text/plain": [
       "   ID    Name   Color  Price\n",
       "0   1   Apple     Red    110\n",
       "1   2   Mango  Yellow    100\n",
       "2   3  Banana  Yellow     40\n",
       "3   4   Gauva   Green     50\n",
       "4   5  Orange  Orange     80"
      ]
     },
     "execution_count": 15,
     "metadata": {},
     "output_type": "execute_result"
    }
   ],
   "source": [
    "data3"
   ]
  },
  {
   "cell_type": "code",
   "execution_count": 16,
   "id": "02722cc6",
   "metadata": {},
   "outputs": [],
   "source": [
    "data4 = pd.read_sql(\"SELECT * FROM my_table\", engine)"
   ]
  },
  {
   "cell_type": "code",
   "execution_count": 17,
   "id": "2c69c089",
   "metadata": {},
   "outputs": [
    {
     "data": {
      "text/html": [
       "<div>\n",
       "<style scoped>\n",
       "    .dataframe tbody tr th:only-of-type {\n",
       "        vertical-align: middle;\n",
       "    }\n",
       "\n",
       "    .dataframe tbody tr th {\n",
       "        vertical-align: top;\n",
       "    }\n",
       "\n",
       "    .dataframe thead th {\n",
       "        text-align: right;\n",
       "    }\n",
       "</style>\n",
       "<table border=\"1\" class=\"dataframe\">\n",
       "  <thead>\n",
       "    <tr style=\"text-align: right;\">\n",
       "      <th></th>\n",
       "      <th>index</th>\n",
       "      <th>ID</th>\n",
       "      <th>Name</th>\n",
       "      <th>Color</th>\n",
       "      <th>Price</th>\n",
       "    </tr>\n",
       "  </thead>\n",
       "  <tbody>\n",
       "    <tr>\n",
       "      <th>0</th>\n",
       "      <td>0</td>\n",
       "      <td>1</td>\n",
       "      <td>Apple</td>\n",
       "      <td>Red</td>\n",
       "      <td>110</td>\n",
       "    </tr>\n",
       "    <tr>\n",
       "      <th>1</th>\n",
       "      <td>1</td>\n",
       "      <td>2</td>\n",
       "      <td>Mango</td>\n",
       "      <td>Yellow</td>\n",
       "      <td>100</td>\n",
       "    </tr>\n",
       "    <tr>\n",
       "      <th>2</th>\n",
       "      <td>2</td>\n",
       "      <td>3</td>\n",
       "      <td>Banana</td>\n",
       "      <td>Yellow</td>\n",
       "      <td>40</td>\n",
       "    </tr>\n",
       "    <tr>\n",
       "      <th>3</th>\n",
       "      <td>3</td>\n",
       "      <td>4</td>\n",
       "      <td>Gauva</td>\n",
       "      <td>Green</td>\n",
       "      <td>50</td>\n",
       "    </tr>\n",
       "    <tr>\n",
       "      <th>4</th>\n",
       "      <td>4</td>\n",
       "      <td>5</td>\n",
       "      <td>Orange</td>\n",
       "      <td>Orange</td>\n",
       "      <td>80</td>\n",
       "    </tr>\n",
       "  </tbody>\n",
       "</table>\n",
       "</div>"
      ],
      "text/plain": [
       "   index  ID    Name   Color  Price\n",
       "0      0   1   Apple     Red    110\n",
       "1      1   2   Mango  Yellow    100\n",
       "2      2   3  Banana  Yellow     40\n",
       "3      3   4   Gauva   Green     50\n",
       "4      4   5  Orange  Orange     80"
      ]
     },
     "execution_count": 17,
     "metadata": {},
     "output_type": "execute_result"
    }
   ],
   "source": [
    "data4"
   ]
  },
  {
   "cell_type": "code",
   "execution_count": 18,
   "id": "7a197e32",
   "metadata": {},
   "outputs": [],
   "source": [
    "def display_summary_statistic(data):\n",
    "    print(\"Data:- \\n\", data.head())\n",
    "    print(\"\\nDescribe:- \\n\",data.describe())\n",
    "    print(\"\\nType:- \\n\", type(data))\n",
    "    print(\"\\nCorrelation:- \\n\", data.corr())\n",
    "    print(\"\\nSum of missing data point:- \\n\", data.isnull().sum())"
   ]
  },
  {
   "cell_type": "code",
   "execution_count": 19,
   "id": "a12c4984",
   "metadata": {},
   "outputs": [
    {
     "name": "stdout",
     "output_type": "stream",
     "text": [
      "Data:- \n",
      "    index  ID    Name   Color  Price\n",
      "0      0   1   Apple     Red    110\n",
      "1      1   2   Mango  Yellow    100\n",
      "2      2   3  Banana  Yellow     40\n",
      "3      3   4   Gauva   Green     50\n",
      "4      4   5  Orange  Orange     80\n",
      "\n",
      "Describe:- \n",
      "           index        ID       Price\n",
      "count  5.000000  5.000000    5.000000\n",
      "mean   2.000000  3.000000   76.000000\n",
      "std    1.581139  1.581139   30.495901\n",
      "min    0.000000  1.000000   40.000000\n",
      "25%    1.000000  2.000000   50.000000\n",
      "50%    2.000000  3.000000   80.000000\n",
      "75%    3.000000  4.000000  100.000000\n",
      "max    4.000000  5.000000  110.000000\n",
      "\n",
      "Type:- \n",
      " <class 'pandas.core.frame.DataFrame'>\n",
      "\n",
      "Correlation:- \n",
      "           index        ID     Price\n",
      "index  1.000000  1.000000 -0.570323\n",
      "ID     1.000000  1.000000 -0.570323\n",
      "Price -0.570323 -0.570323  1.000000\n",
      "\n",
      "Sum of missing data point:- \n",
      " index    0\n",
      "ID       0\n",
      "Name     0\n",
      "Color    0\n",
      "Price    0\n",
      "dtype: int64\n"
     ]
    },
    {
     "name": "stderr",
     "output_type": "stream",
     "text": [
      "C:\\Users\\raths\\AppData\\Local\\Temp\\ipykernel_23036\\3233973822.py:5: FutureWarning: The default value of numeric_only in DataFrame.corr is deprecated. In a future version, it will default to False. Select only valid columns or specify the value of numeric_only to silence this warning.\n",
      "  print(\"\\nCorrelation:- \\n\", data.corr())\n"
     ]
    }
   ],
   "source": [
    "display_summary_statistic(data4)"
   ]
  },
  {
   "cell_type": "code",
   "execution_count": null,
   "id": "709a70cf",
   "metadata": {},
   "outputs": [],
   "source": []
  }
 ],
 "metadata": {
  "kernelspec": {
   "display_name": "Python 3 (ipykernel)",
   "language": "python",
   "name": "python3"
  },
  "language_info": {
   "codemirror_mode": {
    "name": "ipython",
    "version": 3
   },
   "file_extension": ".py",
   "mimetype": "text/x-python",
   "name": "python",
   "nbconvert_exporter": "python",
   "pygments_lexer": "ipython3",
   "version": "3.10.9"
  }
 },
 "nbformat": 4,
 "nbformat_minor": 5
}
